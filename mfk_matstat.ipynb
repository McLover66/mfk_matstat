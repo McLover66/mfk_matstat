{
 "cells": [
  {
   "cell_type": "raw",
   "id": "85b446fe-cb4d-4232-825b-4a6df6870e10",
   "metadata": {},
   "source": [
    "Андрей Зернюк 3 курс физический_факультет 2024"
   ]
  },
  {
   "cell_type": "code",
   "execution_count": 3,
   "id": "2157419f-7dba-4e89-84f9-b1510aec143e",
   "metadata": {
    "scrolled": true
   },
   "outputs": [
    {
     "name": "stdout",
     "output_type": "stream",
     "text": [
      "^C\n",
      "Requirement already satisfied: pandas in c:\\users\\user\\anaconda3\\lib\\site-packages (2.1.4)\n",
      "Requirement already satisfied: numpy<2,>=1.23.2 in c:\\users\\user\\anaconda3\\lib\\site-packages (from pandas) (1.26.4)\n",
      "Requirement already satisfied: python-dateutil>=2.8.2 in c:\\users\\user\\anaconda3\\lib\\site-packages (from pandas) (2.8.2)\n",
      "Requirement already satisfied: pytz>=2020.1 in c:\\users\\user\\anaconda3\\lib\\site-packages (from pandas) (2023.3.post1)\n",
      "Requirement already satisfied: tzdata>=2022.1 in c:\\users\\user\\anaconda3\\lib\\site-packages (from pandas) (2023.3)\n",
      "Requirement already satisfied: six>=1.5 in c:\\users\\user\\anaconda3\\lib\\site-packages (from python-dateutil>=2.8.2->pandas) (1.16.0)\n"
     ]
    }
   ],
   "source": [
    "!pip install pandas"
   ]
  },
  {
   "cell_type": "code",
   "execution_count": 4,
   "id": "6fd0fe5a-b9cc-46d3-a0b3-45ffe1045f2f",
   "metadata": {
    "scrolled": true
   },
   "outputs": [
    {
     "name": "stdout",
     "output_type": "stream",
     "text": [
      "Requirement already satisfied: seaborn in c:\\users\\user\\anaconda3\\lib\\site-packages (0.12.2)\n",
      "Requirement already satisfied: numpy!=1.24.0,>=1.17 in c:\\users\\user\\anaconda3\\lib\\site-packages (from seaborn) (1.26.4)\n",
      "Requirement already satisfied: pandas>=0.25 in c:\\users\\user\\anaconda3\\lib\\site-packages (from seaborn) (2.1.4)\n",
      "Requirement already satisfied: matplotlib!=3.6.1,>=3.1 in c:\\users\\user\\anaconda3\\lib\\site-packages (from seaborn) (3.8.0)\n",
      "Requirement already satisfied: contourpy>=1.0.1 in c:\\users\\user\\anaconda3\\lib\\site-packages (from matplotlib!=3.6.1,>=3.1->seaborn) (1.2.0)\n",
      "Requirement already satisfied: cycler>=0.10 in c:\\users\\user\\anaconda3\\lib\\site-packages (from matplotlib!=3.6.1,>=3.1->seaborn) (0.11.0)\n",
      "Requirement already satisfied: fonttools>=4.22.0 in c:\\users\\user\\anaconda3\\lib\\site-packages (from matplotlib!=3.6.1,>=3.1->seaborn) (4.25.0)\n",
      "Requirement already satisfied: kiwisolver>=1.0.1 in c:\\users\\user\\anaconda3\\lib\\site-packages (from matplotlib!=3.6.1,>=3.1->seaborn) (1.4.4)\n",
      "Requirement already satisfied: packaging>=20.0 in c:\\users\\user\\anaconda3\\lib\\site-packages (from matplotlib!=3.6.1,>=3.1->seaborn) (23.1)\n",
      "Requirement already satisfied: pillow>=6.2.0 in c:\\users\\user\\anaconda3\\lib\\site-packages (from matplotlib!=3.6.1,>=3.1->seaborn) (10.2.0)\n",
      "Requirement already satisfied: pyparsing>=2.3.1 in c:\\users\\user\\anaconda3\\lib\\site-packages (from matplotlib!=3.6.1,>=3.1->seaborn) (3.0.9)\n",
      "Requirement already satisfied: python-dateutil>=2.7 in c:\\users\\user\\anaconda3\\lib\\site-packages (from matplotlib!=3.6.1,>=3.1->seaborn) (2.8.2)\n",
      "Requirement already satisfied: pytz>=2020.1 in c:\\users\\user\\anaconda3\\lib\\site-packages (from pandas>=0.25->seaborn) (2023.3.post1)\n",
      "Requirement already satisfied: tzdata>=2022.1 in c:\\users\\user\\anaconda3\\lib\\site-packages (from pandas>=0.25->seaborn) (2023.3)\n",
      "Requirement already satisfied: six>=1.5 in c:\\users\\user\\anaconda3\\lib\\site-packages (from python-dateutil>=2.7->matplotlib!=3.6.1,>=3.1->seaborn) (1.16.0)\n"
     ]
    }
   ],
   "source": [
    "!pip install seaborn "
   ]
  },
  {
   "cell_type": "code",
   "execution_count": 2,
   "id": "66424714-df4e-4962-9300-573df7a697e1",
   "metadata": {},
   "outputs": [],
   "source": [
    "import pandas as pd\n",
    "from pandas import read_csv\n",
    "\n",
    "import matplotlib.pyplot as plt\n",
    "import seaborn as sns\n",
    "\n",
    "import numpy as np\n",
    "import scipy.stats as stats\n"
   ]
  },
  {
   "cell_type": "code",
   "execution_count": 5,
   "id": "dfeaed9f-3f3f-4f2b-ad30-029f6ee8227c",
   "metadata": {},
   "outputs": [],
   "source": [
    "df = read_csv(r\"C:\\Users\\user\\Desktop\\ml\\mfk_matstat.2024\\flights_NY.csv\").dropna(axis = 0)"
   ]
  },
  {
   "cell_type": "code",
   "execution_count": 6,
   "id": "7500fe18-fbef-465c-b4b2-6bab92631ace",
   "metadata": {},
   "outputs": [
    {
     "data": {
      "text/html": [
       "<div>\n",
       "<style scoped>\n",
       "    .dataframe tbody tr th:only-of-type {\n",
       "        vertical-align: middle;\n",
       "    }\n",
       "\n",
       "    .dataframe tbody tr th {\n",
       "        vertical-align: top;\n",
       "    }\n",
       "\n",
       "    .dataframe thead th {\n",
       "        text-align: right;\n",
       "    }\n",
       "</style>\n",
       "<table border=\"1\" class=\"dataframe\">\n",
       "  <thead>\n",
       "    <tr style=\"text-align: right;\">\n",
       "      <th></th>\n",
       "      <th>year</th>\n",
       "      <th>month</th>\n",
       "      <th>day</th>\n",
       "      <th>dep_time</th>\n",
       "      <th>dep_delay</th>\n",
       "      <th>arr_time</th>\n",
       "      <th>arr_delay</th>\n",
       "      <th>carrier</th>\n",
       "      <th>tailnum</th>\n",
       "      <th>flight</th>\n",
       "      <th>origin</th>\n",
       "      <th>dest</th>\n",
       "      <th>air_time</th>\n",
       "      <th>distance</th>\n",
       "    </tr>\n",
       "  </thead>\n",
       "  <tbody>\n",
       "    <tr>\n",
       "      <th>0</th>\n",
       "      <td>2013</td>\n",
       "      <td>1</td>\n",
       "      <td>1</td>\n",
       "      <td>517.0</td>\n",
       "      <td>2.0</td>\n",
       "      <td>830.0</td>\n",
       "      <td>11.0</td>\n",
       "      <td>UA</td>\n",
       "      <td>N14228</td>\n",
       "      <td>1545</td>\n",
       "      <td>EWR</td>\n",
       "      <td>IAH</td>\n",
       "      <td>227.0</td>\n",
       "      <td>1400</td>\n",
       "    </tr>\n",
       "    <tr>\n",
       "      <th>1</th>\n",
       "      <td>2013</td>\n",
       "      <td>1</td>\n",
       "      <td>1</td>\n",
       "      <td>533.0</td>\n",
       "      <td>4.0</td>\n",
       "      <td>850.0</td>\n",
       "      <td>20.0</td>\n",
       "      <td>UA</td>\n",
       "      <td>N24211</td>\n",
       "      <td>1714</td>\n",
       "      <td>LGA</td>\n",
       "      <td>IAH</td>\n",
       "      <td>227.0</td>\n",
       "      <td>1416</td>\n",
       "    </tr>\n",
       "    <tr>\n",
       "      <th>2</th>\n",
       "      <td>2013</td>\n",
       "      <td>1</td>\n",
       "      <td>1</td>\n",
       "      <td>542.0</td>\n",
       "      <td>2.0</td>\n",
       "      <td>923.0</td>\n",
       "      <td>33.0</td>\n",
       "      <td>AA</td>\n",
       "      <td>N619AA</td>\n",
       "      <td>1141</td>\n",
       "      <td>JFK</td>\n",
       "      <td>MIA</td>\n",
       "      <td>160.0</td>\n",
       "      <td>1089</td>\n",
       "    </tr>\n",
       "    <tr>\n",
       "      <th>3</th>\n",
       "      <td>2013</td>\n",
       "      <td>1</td>\n",
       "      <td>1</td>\n",
       "      <td>544.0</td>\n",
       "      <td>-1.0</td>\n",
       "      <td>1004.0</td>\n",
       "      <td>-18.0</td>\n",
       "      <td>B6</td>\n",
       "      <td>N804JB</td>\n",
       "      <td>725</td>\n",
       "      <td>JFK</td>\n",
       "      <td>BQN</td>\n",
       "      <td>183.0</td>\n",
       "      <td>1576</td>\n",
       "    </tr>\n",
       "    <tr>\n",
       "      <th>4</th>\n",
       "      <td>2013</td>\n",
       "      <td>1</td>\n",
       "      <td>1</td>\n",
       "      <td>554.0</td>\n",
       "      <td>-6.0</td>\n",
       "      <td>812.0</td>\n",
       "      <td>-25.0</td>\n",
       "      <td>DL</td>\n",
       "      <td>N668DN</td>\n",
       "      <td>461</td>\n",
       "      <td>LGA</td>\n",
       "      <td>ATL</td>\n",
       "      <td>116.0</td>\n",
       "      <td>762</td>\n",
       "    </tr>\n",
       "    <tr>\n",
       "      <th>5</th>\n",
       "      <td>2013</td>\n",
       "      <td>1</td>\n",
       "      <td>1</td>\n",
       "      <td>554.0</td>\n",
       "      <td>-4.0</td>\n",
       "      <td>740.0</td>\n",
       "      <td>12.0</td>\n",
       "      <td>UA</td>\n",
       "      <td>N39463</td>\n",
       "      <td>1696</td>\n",
       "      <td>EWR</td>\n",
       "      <td>ORD</td>\n",
       "      <td>150.0</td>\n",
       "      <td>719</td>\n",
       "    </tr>\n",
       "    <tr>\n",
       "      <th>6</th>\n",
       "      <td>2013</td>\n",
       "      <td>1</td>\n",
       "      <td>1</td>\n",
       "      <td>555.0</td>\n",
       "      <td>-5.0</td>\n",
       "      <td>913.0</td>\n",
       "      <td>19.0</td>\n",
       "      <td>B6</td>\n",
       "      <td>N516JB</td>\n",
       "      <td>507</td>\n",
       "      <td>EWR</td>\n",
       "      <td>FLL</td>\n",
       "      <td>158.0</td>\n",
       "      <td>1065</td>\n",
       "    </tr>\n",
       "    <tr>\n",
       "      <th>7</th>\n",
       "      <td>2013</td>\n",
       "      <td>1</td>\n",
       "      <td>1</td>\n",
       "      <td>557.0</td>\n",
       "      <td>-3.0</td>\n",
       "      <td>709.0</td>\n",
       "      <td>-14.0</td>\n",
       "      <td>EV</td>\n",
       "      <td>N829AS</td>\n",
       "      <td>5708</td>\n",
       "      <td>LGA</td>\n",
       "      <td>IAD</td>\n",
       "      <td>53.0</td>\n",
       "      <td>229</td>\n",
       "    </tr>\n",
       "    <tr>\n",
       "      <th>8</th>\n",
       "      <td>2013</td>\n",
       "      <td>1</td>\n",
       "      <td>1</td>\n",
       "      <td>557.0</td>\n",
       "      <td>-3.0</td>\n",
       "      <td>838.0</td>\n",
       "      <td>-8.0</td>\n",
       "      <td>B6</td>\n",
       "      <td>N593JB</td>\n",
       "      <td>79</td>\n",
       "      <td>JFK</td>\n",
       "      <td>MCO</td>\n",
       "      <td>140.0</td>\n",
       "      <td>944</td>\n",
       "    </tr>\n",
       "    <tr>\n",
       "      <th>9</th>\n",
       "      <td>2013</td>\n",
       "      <td>1</td>\n",
       "      <td>1</td>\n",
       "      <td>558.0</td>\n",
       "      <td>-2.0</td>\n",
       "      <td>753.0</td>\n",
       "      <td>8.0</td>\n",
       "      <td>AA</td>\n",
       "      <td>N3ALAA</td>\n",
       "      <td>301</td>\n",
       "      <td>LGA</td>\n",
       "      <td>ORD</td>\n",
       "      <td>138.0</td>\n",
       "      <td>733</td>\n",
       "    </tr>\n",
       "  </tbody>\n",
       "</table>\n",
       "</div>"
      ],
      "text/plain": [
       "   year  month  day  dep_time  dep_delay  arr_time  arr_delay carrier tailnum  \\\n",
       "0  2013      1    1     517.0        2.0     830.0       11.0      UA  N14228   \n",
       "1  2013      1    1     533.0        4.0     850.0       20.0      UA  N24211   \n",
       "2  2013      1    1     542.0        2.0     923.0       33.0      AA  N619AA   \n",
       "3  2013      1    1     544.0       -1.0    1004.0      -18.0      B6  N804JB   \n",
       "4  2013      1    1     554.0       -6.0     812.0      -25.0      DL  N668DN   \n",
       "5  2013      1    1     554.0       -4.0     740.0       12.0      UA  N39463   \n",
       "6  2013      1    1     555.0       -5.0     913.0       19.0      B6  N516JB   \n",
       "7  2013      1    1     557.0       -3.0     709.0      -14.0      EV  N829AS   \n",
       "8  2013      1    1     557.0       -3.0     838.0       -8.0      B6  N593JB   \n",
       "9  2013      1    1     558.0       -2.0     753.0        8.0      AA  N3ALAA   \n",
       "\n",
       "   flight origin dest  air_time  distance  \n",
       "0    1545    EWR  IAH     227.0      1400  \n",
       "1    1714    LGA  IAH     227.0      1416  \n",
       "2    1141    JFK  MIA     160.0      1089  \n",
       "3     725    JFK  BQN     183.0      1576  \n",
       "4     461    LGA  ATL     116.0       762  \n",
       "5    1696    EWR  ORD     150.0       719  \n",
       "6     507    EWR  FLL     158.0      1065  \n",
       "7    5708    LGA  IAD      53.0       229  \n",
       "8      79    JFK  MCO     140.0       944  \n",
       "9     301    LGA  ORD     138.0       733  "
      ]
     },
     "execution_count": 6,
     "metadata": {},
     "output_type": "execute_result"
    }
   ],
   "source": [
    "df.head(10)"
   ]
  },
  {
   "cell_type": "code",
   "execution_count": 5,
   "id": "eda94e21-e532-47cd-ab3a-a720f9a2c650",
   "metadata": {
    "scrolled": true
   },
   "outputs": [
    {
     "name": "stdout",
     "output_type": "stream",
     "text": [
      "<class 'pandas.core.frame.DataFrame'>\n",
      "Index: 327346 entries, 0 to 336769\n",
      "Data columns (total 14 columns):\n",
      " #   Column     Non-Null Count   Dtype  \n",
      "---  ------     --------------   -----  \n",
      " 0   year       327346 non-null  int64  \n",
      " 1   month      327346 non-null  int64  \n",
      " 2   day        327346 non-null  int64  \n",
      " 3   dep_time   327346 non-null  float64\n",
      " 4   dep_delay  327346 non-null  float64\n",
      " 5   arr_time   327346 non-null  float64\n",
      " 6   arr_delay  327346 non-null  float64\n",
      " 7   carrier    327346 non-null  object \n",
      " 8   tailnum    327346 non-null  object \n",
      " 9   flight     327346 non-null  int64  \n",
      " 10  origin     327346 non-null  object \n",
      " 11  dest       327346 non-null  object \n",
      " 12  air_time   327346 non-null  float64\n",
      " 13  distance   327346 non-null  int64  \n",
      "dtypes: float64(5), int64(5), object(4)\n",
      "memory usage: 37.5+ MB\n"
     ]
    }
   ],
   "source": [
    "df.info()"
   ]
  },
  {
   "cell_type": "code",
   "execution_count": 6,
   "id": "40551778-7a70-44ad-b875-d30a3d7d36f7",
   "metadata": {},
   "outputs": [],
   "source": [
    "# 1. По каждой авиакомпании оцените вероятность того, \n",
    "# что задержка прилета будет положительной и нарисуйте график, \n",
    "# показывающий распределение этой вероятности по авиакомпаниям."
   ]
  },
  {
   "cell_type": "code",
   "execution_count": 52,
   "id": "5a826c2b-247c-4419-b278-2565b6395e89",
   "metadata": {},
   "outputs": [
    {
     "name": "stdout",
     "output_type": "stream",
     "text": [
      "Количество авиакомпаний = 15\n",
      "среднее время задержки \n",
      "    carrier  dep_delay\n",
      "0       9E  16.439574\n",
      "1       AA   8.214508\n",
      "2       AS   5.830748\n",
      "3       B6  12.944125\n",
      "4       DL   9.318468\n",
      "5       EV  19.838929\n",
      "6       F9  20.201175\n",
      "7       FL  18.605984\n",
      "8       MQ  10.445381\n",
      "9       OO  12.586207\n",
      "10      UA  12.187052\n",
      "11      US   3.744693\n",
      "12      VX  10.409801\n",
      "13      WN  17.661657\n",
      "14      YV  18.898897\n"
     ]
    }
   ],
   "source": [
    "print(\"Количество авиакомпаний =\", df[['carrier', 'dep_delay']].groupby(by = 'carrier').sum().shape[0])\n",
    "print(\"среднее время задержки \\n\", df[['carrier', 'dep_delay']].groupby(by = 'carrier').mean().reset_index())"
   ]
  },
  {
   "cell_type": "code",
   "execution_count": 47,
   "id": "0ba5ce81-928d-4c85-8e7d-1f9c0f4bab8e",
   "metadata": {},
   "outputs": [],
   "source": [
    "df1 = df[df['dep_delay']>0][['carrier', 'dep_delay']].groupby(by = 'carrier').count().sort_values(by='dep_delay', ascending=False).reset_index()\n",
    "df2 = df[['carrier', 'dep_delay']].groupby(by = 'carrier').count().sort_values(by='dep_delay', ascending=False).reset_index()"
   ]
  },
  {
   "cell_type": "code",
   "execution_count": 48,
   "id": "315d91d5-ca22-4677-b39a-d35c68f5431b",
   "metadata": {},
   "outputs": [
    {
     "data": {
      "text/html": [
       "<div>\n",
       "<style scoped>\n",
       "    .dataframe tbody tr th:only-of-type {\n",
       "        vertical-align: middle;\n",
       "    }\n",
       "\n",
       "    .dataframe tbody tr th {\n",
       "        vertical-align: top;\n",
       "    }\n",
       "\n",
       "    .dataframe thead th {\n",
       "        text-align: right;\n",
       "    }\n",
       "</style>\n",
       "<table border=\"1\" class=\"dataframe\">\n",
       "  <thead>\n",
       "    <tr style=\"text-align: right;\">\n",
       "      <th></th>\n",
       "      <th>carrier</th>\n",
       "      <th>dep_delay_df1</th>\n",
       "      <th>dep_delay_df2</th>\n",
       "    </tr>\n",
       "  </thead>\n",
       "  <tbody>\n",
       "    <tr>\n",
       "      <th>0</th>\n",
       "      <td>UA</td>\n",
       "      <td>26167</td>\n",
       "      <td>54974</td>\n",
       "    </tr>\n",
       "    <tr>\n",
       "      <th>1</th>\n",
       "      <td>EV</td>\n",
       "      <td>22976</td>\n",
       "      <td>51108</td>\n",
       "    </tr>\n",
       "    <tr>\n",
       "      <th>2</th>\n",
       "      <td>B6</td>\n",
       "      <td>20936</td>\n",
       "      <td>53029</td>\n",
       "    </tr>\n",
       "    <tr>\n",
       "      <th>3</th>\n",
       "      <td>DL</td>\n",
       "      <td>14668</td>\n",
       "      <td>45810</td>\n",
       "    </tr>\n",
       "    <tr>\n",
       "      <th>4</th>\n",
       "      <td>AA</td>\n",
       "      <td>9496</td>\n",
       "      <td>30549</td>\n",
       "    </tr>\n",
       "    <tr>\n",
       "      <th>5</th>\n",
       "      <td>MQ</td>\n",
       "      <td>7966</td>\n",
       "      <td>25037</td>\n",
       "    </tr>\n",
       "    <tr>\n",
       "      <th>6</th>\n",
       "      <td>9E</td>\n",
       "      <td>6980</td>\n",
       "      <td>17294</td>\n",
       "    </tr>\n",
       "    <tr>\n",
       "      <th>7</th>\n",
       "      <td>WN</td>\n",
       "      <td>6535</td>\n",
       "      <td>12044</td>\n",
       "    </tr>\n",
       "    <tr>\n",
       "      <th>8</th>\n",
       "      <td>US</td>\n",
       "      <td>4762</td>\n",
       "      <td>19831</td>\n",
       "    </tr>\n",
       "    <tr>\n",
       "      <th>9</th>\n",
       "      <td>FL</td>\n",
       "      <td>1647</td>\n",
       "      <td>3175</td>\n",
       "    </tr>\n",
       "    <tr>\n",
       "      <th>10</th>\n",
       "      <td>VX</td>\n",
       "      <td>1485</td>\n",
       "      <td>3714</td>\n",
       "    </tr>\n",
       "    <tr>\n",
       "      <th>11</th>\n",
       "      <td>F9</td>\n",
       "      <td>340</td>\n",
       "      <td>681</td>\n",
       "    </tr>\n",
       "    <tr>\n",
       "      <th>12</th>\n",
       "      <td>YV</td>\n",
       "      <td>232</td>\n",
       "      <td>544</td>\n",
       "    </tr>\n",
       "    <tr>\n",
       "      <th>13</th>\n",
       "      <td>AS</td>\n",
       "      <td>225</td>\n",
       "      <td>709</td>\n",
       "    </tr>\n",
       "    <tr>\n",
       "      <th>14</th>\n",
       "      <td>OO</td>\n",
       "      <td>9</td>\n",
       "      <td>29</td>\n",
       "    </tr>\n",
       "  </tbody>\n",
       "</table>\n",
       "</div>"
      ],
      "text/plain": [
       "   carrier  dep_delay_df1  dep_delay_df2\n",
       "0       UA          26167          54974\n",
       "1       EV          22976          51108\n",
       "2       B6          20936          53029\n",
       "3       DL          14668          45810\n",
       "4       AA           9496          30549\n",
       "5       MQ           7966          25037\n",
       "6       9E           6980          17294\n",
       "7       WN           6535          12044\n",
       "8       US           4762          19831\n",
       "9       FL           1647           3175\n",
       "10      VX           1485           3714\n",
       "11      F9            340            681\n",
       "12      YV            232            544\n",
       "13      AS            225            709\n",
       "14      OO              9             29"
      ]
     },
     "execution_count": 48,
     "metadata": {},
     "output_type": "execute_result"
    }
   ],
   "source": [
    "merged_df = pd.merge(df1, df2, on='carrier', suffixes=('_df1', '_df2'))\n",
    "merged_dfч"
   ]
  },
  {
   "cell_type": "code",
   "execution_count": 53,
   "id": "4cdb59e5-2bee-4b7d-a9d1-930296986a83",
   "metadata": {},
   "outputs": [
    {
     "name": "stdout",
     "output_type": "stream",
     "text": [
      "   carrier  probability\n",
      "7       WN     0.542594\n",
      "9       FL     0.518740\n",
      "11      F9     0.499266\n",
      "0       UA     0.475989\n",
      "1       EV     0.449558\n",
      "12      YV     0.426471\n",
      "6       9E     0.403608\n",
      "10      VX     0.399838\n",
      "2       B6     0.394803\n",
      "3       DL     0.320192\n",
      "5       MQ     0.318169\n",
      "13      AS     0.317348\n",
      "4       AA     0.310845\n",
      "14      OO     0.310345\n",
      "8       US     0.240129\n"
     ]
    }
   ],
   "source": [
    "df1t = pd.DataFrame()\n",
    "df1t['carrier'] = merged_df['carrier']\n",
    "df1t['probability'] = merged_df['dep_delay_df1'] / merged_df['dep_delay_df2']\n",
    "df1t = df1t.sort_values(by = 'probability', ascending=False)\n",
    "print(df1t)"
   ]
  },
  {
   "cell_type": "code",
   "execution_count": 54,
   "id": "ed070295-e507-44f9-a2ac-fb9fd08ab232",
   "metadata": {},
   "outputs": [
    {
     "data": {
      "image/png": "[encoded data removed]",
      "text/plain": [
       "<Figure size 1600x500 with 1 Axes>"
      ]
     },
     "metadata": {},
     "output_type": "display_data"
    }
   ],
   "source": [
    "sns.set_theme(style = 'ticks')\n",
    "plt.figure(figsize = (16, 5))\n",
    "barplot = sns.barplot(x = 'carrier', y = 'probability', data = df1t, palette = 'rocket')\n",
    "plt.xlabel('авиакомпания')\n",
    "plt.ylabel('вероятность задержки')\n",
    "plt.title('вероятность задержки вылетов по авиакомпаниям')  \n",
    "plt.show()"
   ]
  },
  {
   "cell_type": "raw",
   "id": "9f4fb01d-73e1-45ec-a14b-7f30a362f479",
   "metadata": {},
   "source": [
    "2. Постройте гистограмму расстояния перелета distance. \n",
    "Выделите на ней три группы перелетов: короткие, средние и длинные. \n",
    "Какие значения distance разумно выбрать в качестве границы, разделяющей короткие. \n",
    "средние и длинные перелеты? Куда летят самолеты в группе длинных перелетов? \n",
    "Найдите среднее время задержки вылета в каждой из трех выделенных групп. "
   ]
  },
  {
   "cell_type": "code",
   "execution_count": 11,
   "id": "4a1d7b26-1ceb-4fcd-a700-be03cb042e2f",
   "metadata": {},
   "outputs": [
    {
     "data": {
      "text/html": [
       "<div>\n",
       "<style scoped>\n",
       "    .dataframe tbody tr th:only-of-type {\n",
       "        vertical-align: middle;\n",
       "    }\n",
       "\n",
       "    .dataframe tbody tr th {\n",
       "        vertical-align: top;\n",
       "    }\n",
       "\n",
       "    .dataframe thead th {\n",
       "        text-align: right;\n",
       "    }\n",
       "</style>\n",
       "<table border=\"1\" class=\"dataframe\">\n",
       "  <thead>\n",
       "    <tr style=\"text-align: right;\">\n",
       "      <th></th>\n",
       "      <th>year</th>\n",
       "      <th>month</th>\n",
       "      <th>day</th>\n",
       "      <th>dep_time</th>\n",
       "      <th>dep_delay</th>\n",
       "      <th>arr_time</th>\n",
       "      <th>arr_delay</th>\n",
       "      <th>carrier</th>\n",
       "      <th>tailnum</th>\n",
       "      <th>flight</th>\n",
       "      <th>origin</th>\n",
       "      <th>dest</th>\n",
       "      <th>air_time</th>\n",
       "      <th>distance</th>\n",
       "    </tr>\n",
       "  </thead>\n",
       "  <tbody>\n",
       "    <tr>\n",
       "      <th>0</th>\n",
       "      <td>2013</td>\n",
       "      <td>1</td>\n",
       "      <td>1</td>\n",
       "      <td>517.0</td>\n",
       "      <td>2.0</td>\n",
       "      <td>830.0</td>\n",
       "      <td>11.0</td>\n",
       "      <td>UA</td>\n",
       "      <td>N14228</td>\n",
       "      <td>1545</td>\n",
       "      <td>EWR</td>\n",
       "      <td>IAH</td>\n",
       "      <td>227.0</td>\n",
       "      <td>1400</td>\n",
       "    </tr>\n",
       "    <tr>\n",
       "      <th>1</th>\n",
       "      <td>2013</td>\n",
       "      <td>1</td>\n",
       "      <td>1</td>\n",
       "      <td>533.0</td>\n",
       "      <td>4.0</td>\n",
       "      <td>850.0</td>\n",
       "      <td>20.0</td>\n",
       "      <td>UA</td>\n",
       "      <td>N24211</td>\n",
       "      <td>1714</td>\n",
       "      <td>LGA</td>\n",
       "      <td>IAH</td>\n",
       "      <td>227.0</td>\n",
       "      <td>1416</td>\n",
       "    </tr>\n",
       "    <tr>\n",
       "      <th>2</th>\n",
       "      <td>2013</td>\n",
       "      <td>1</td>\n",
       "      <td>1</td>\n",
       "      <td>542.0</td>\n",
       "      <td>2.0</td>\n",
       "      <td>923.0</td>\n",
       "      <td>33.0</td>\n",
       "      <td>AA</td>\n",
       "      <td>N619AA</td>\n",
       "      <td>1141</td>\n",
       "      <td>JFK</td>\n",
       "      <td>MIA</td>\n",
       "      <td>160.0</td>\n",
       "      <td>1089</td>\n",
       "    </tr>\n",
       "    <tr>\n",
       "      <th>3</th>\n",
       "      <td>2013</td>\n",
       "      <td>1</td>\n",
       "      <td>1</td>\n",
       "      <td>544.0</td>\n",
       "      <td>-1.0</td>\n",
       "      <td>1004.0</td>\n",
       "      <td>-18.0</td>\n",
       "      <td>B6</td>\n",
       "      <td>N804JB</td>\n",
       "      <td>725</td>\n",
       "      <td>JFK</td>\n",
       "      <td>BQN</td>\n",
       "      <td>183.0</td>\n",
       "      <td>1576</td>\n",
       "    </tr>\n",
       "    <tr>\n",
       "      <th>4</th>\n",
       "      <td>2013</td>\n",
       "      <td>1</td>\n",
       "      <td>1</td>\n",
       "      <td>554.0</td>\n",
       "      <td>-6.0</td>\n",
       "      <td>812.0</td>\n",
       "      <td>-25.0</td>\n",
       "      <td>DL</td>\n",
       "      <td>N668DN</td>\n",
       "      <td>461</td>\n",
       "      <td>LGA</td>\n",
       "      <td>ATL</td>\n",
       "      <td>116.0</td>\n",
       "      <td>762</td>\n",
       "    </tr>\n",
       "  </tbody>\n",
       "</table>\n",
       "</div>"
      ],
      "text/plain": [
       "   year  month  day  dep_time  dep_delay  arr_time  arr_delay carrier tailnum  \\\n",
       "0  2013      1    1     517.0        2.0     830.0       11.0      UA  N14228   \n",
       "1  2013      1    1     533.0        4.0     850.0       20.0      UA  N24211   \n",
       "2  2013      1    1     542.0        2.0     923.0       33.0      AA  N619AA   \n",
       "3  2013      1    1     544.0       -1.0    1004.0      -18.0      B6  N804JB   \n",
       "4  2013      1    1     554.0       -6.0     812.0      -25.0      DL  N668DN   \n",
       "\n",
       "   flight origin dest  air_time  distance  \n",
       "0    1545    EWR  IAH     227.0      1400  \n",
       "1    1714    LGA  IAH     227.0      1416  \n",
       "2    1141    JFK  MIA     160.0      1089  \n",
       "3     725    JFK  BQN     183.0      1576  \n",
       "4     461    LGA  ATL     116.0       762  "
      ]
     },
     "execution_count": 11,
     "metadata": {},
     "output_type": "execute_result"
    }
   ],
   "source": [
    "df.head()"
   ]
  },
  {
   "cell_type": "code",
   "execution_count": 12,
   "id": "5e09cc26-662c-4596-af21-e1f64c40262b",
   "metadata": {},
   "outputs": [
    {
     "data": {
      "text/html": [
       "<div>\n",
       "<style scoped>\n",
       "    .dataframe tbody tr th:only-of-type {\n",
       "        vertical-align: middle;\n",
       "    }\n",
       "\n",
       "    .dataframe tbody tr th {\n",
       "        vertical-align: top;\n",
       "    }\n",
       "\n",
       "    .dataframe thead th {\n",
       "        text-align: right;\n",
       "    }\n",
       "</style>\n",
       "<table border=\"1\" class=\"dataframe\">\n",
       "  <thead>\n",
       "    <tr style=\"text-align: right;\">\n",
       "      <th></th>\n",
       "      <th>tailnum</th>\n",
       "      <th>distance</th>\n",
       "    </tr>\n",
       "  </thead>\n",
       "  <tbody>\n",
       "    <tr>\n",
       "      <th>12180</th>\n",
       "      <td>N14953</td>\n",
       "      <td>80</td>\n",
       "    </tr>\n",
       "    <tr>\n",
       "      <th>114627</th>\n",
       "      <td>N29917</td>\n",
       "      <td>80</td>\n",
       "    </tr>\n",
       "    <tr>\n",
       "      <th>3426</th>\n",
       "      <td>N15983</td>\n",
       "      <td>80</td>\n",
       "    </tr>\n",
       "    <tr>\n",
       "      <th>112694</th>\n",
       "      <td>N18120</td>\n",
       "      <td>80</td>\n",
       "    </tr>\n",
       "    <tr>\n",
       "      <th>26874</th>\n",
       "      <td>N13553</td>\n",
       "      <td>80</td>\n",
       "    </tr>\n",
       "    <tr>\n",
       "      <th>...</th>\n",
       "      <td>...</td>\n",
       "      <td>...</td>\n",
       "    </tr>\n",
       "    <tr>\n",
       "      <th>184221</th>\n",
       "      <td>N392HA</td>\n",
       "      <td>4983</td>\n",
       "    </tr>\n",
       "    <tr>\n",
       "      <th>304928</th>\n",
       "      <td>N389HA</td>\n",
       "      <td>4983</td>\n",
       "    </tr>\n",
       "    <tr>\n",
       "      <th>314910</th>\n",
       "      <td>N380HA</td>\n",
       "      <td>4983</td>\n",
       "    </tr>\n",
       "    <tr>\n",
       "      <th>222441</th>\n",
       "      <td>N388HA</td>\n",
       "      <td>4983</td>\n",
       "    </tr>\n",
       "    <tr>\n",
       "      <th>37668</th>\n",
       "      <td>N386HA</td>\n",
       "      <td>4983</td>\n",
       "    </tr>\n",
       "  </tbody>\n",
       "</table>\n",
       "<p>327346 rows × 2 columns</p>\n",
       "</div>"
      ],
      "text/plain": [
       "       tailnum  distance\n",
       "12180   N14953        80\n",
       "114627  N29917        80\n",
       "3426    N15983        80\n",
       "112694  N18120        80\n",
       "26874   N13553        80\n",
       "...        ...       ...\n",
       "184221  N392HA      4983\n",
       "304928  N389HA      4983\n",
       "314910  N380HA      4983\n",
       "222441  N388HA      4983\n",
       "37668   N386HA      4983\n",
       "\n",
       "[327346 rows x 2 columns]"
      ]
     },
     "execution_count": 12,
     "metadata": {},
     "output_type": "execute_result"
    }
   ],
   "source": [
    "df[['tailnum', 'distance']].sort_values(by = 'distance')"
   ]
  },
  {
   "cell_type": "code",
   "execution_count": 13,
   "id": "963f1f1f-c21e-41a0-8b35-9d57159522e1",
   "metadata": {
    "scrolled": true
   },
   "outputs": [
    {
     "name": "stdout",
     "output_type": "stream",
     "text": [
      "count    327346.000000\n",
      "mean       1048.371314\n",
      "std         735.908523\n",
      "min          80.000000\n",
      "25%         509.000000\n",
      "50%         888.000000\n",
      "75%        1389.000000\n",
      "max        4983.000000\n",
      "Name: distance, dtype: float64\n"
     ]
    }
   ],
   "source": [
    "print(df['distance'].describe())"
   ]
  },
  {
   "cell_type": "raw",
   "id": "28443046-4049-424a-a478-4c39dc15e229",
   "metadata": {},
   "source": [
    "Лучше всего разделить перелеты по квантилям, \n",
    "так получися наилучшим образом оценить облати коротких средних и длинных перелетов"
   ]
  },
  {
   "cell_type": "raw",
   "id": "e9fd9622-9fc8-4dc2-a2b1-ce56659edd62",
   "metadata": {},
   "source": [
    "убираем выбросы"
   ]
  },
  {
   "cell_type": "code",
   "execution_count": 14,
   "id": "05ace03b-0ebd-44a5-bcb0-862c72fb68cf",
   "metadata": {},
   "outputs": [],
   "source": [
    "quantile_99 = df['distance'].quantile(0.99)"
   ]
  },
  {
   "cell_type": "code",
   "execution_count": 15,
   "id": "aa415f29-ffde-4420-a981-80ca976d16ad",
   "metadata": {},
   "outputs": [
    {
     "data": {
      "text/plain": [
       "2586.0"
      ]
     },
     "execution_count": 15,
     "metadata": {},
     "output_type": "execute_result"
    }
   ],
   "source": [
    "quantile_99"
   ]
  },
  {
   "cell_type": "code",
   "execution_count": 16,
   "id": "19f5461c-417e-4642-9587-4028480e0a36",
   "metadata": {},
   "outputs": [],
   "source": [
    "df = df[df['distance']<quantile_99]"
   ]
  },
  {
   "cell_type": "raw",
   "id": "30e44795-553e-41a6-a506-4c38e41e6904",
   "metadata": {},
   "source": [
    "вычисляем квантили"
   ]
  },
  {
   "cell_type": "code",
   "execution_count": 17,
   "id": "bfc2387f-ba52-491e-8ef6-903f0180e36f",
   "metadata": {},
   "outputs": [],
   "source": [
    "quantile_one_third = df['distance'].quantile(0.33)\n",
    "quantile_two_thirds = df['distance'].quantile(0.66)"
   ]
  },
  {
   "cell_type": "code",
   "execution_count": 18,
   "id": "3795d0f0-3103-4992-889a-b75c5a869c9c",
   "metadata": {},
   "outputs": [
    {
     "name": "stderr",
     "output_type": "stream",
     "text": [
      "C:\\Users\\user\\anaconda3\\Lib\\site-packages\\seaborn\\_oldcore.py:1119: FutureWarning: use_inf_as_na option is deprecated and will be removed in a future version. Convert inf values to NaN before operating instead.\n",
      "  with pd.option_context('mode.use_inf_as_na', True):\n"
     ]
    },
    {
     "data": {
      "image/png": "[encoded data removed]",
      "text/plain": [
       "<Figure size 700x400 with 1 Axes>"
      ]
     },
     "metadata": {},
     "output_type": "display_data"
    }
   ],
   "source": [
    "plt.figure(figsize=(7, 4))\n",
    "sns.histplot(df['distance'], bins=100, kde=False)\n",
    "plt.axvline(x=quantile_one_third, color='r', linestyle='-', label='1-2')\n",
    "plt.axvline(x=quantile_two_thirds, color='b', linestyle='-', label='2-3')\n",
    "\n",
    "y_max = 50000\n",
    "plt.fill_betweenx([0, y_max], 0, quantile_one_third, color='green', alpha=0.1)\n",
    "plt.fill_betweenx([0, y_max], quantile_one_third, quantile_two_thirds, color='yellow', alpha=0.1)\n",
    "plt.fill_betweenx([0, y_max], quantile_two_thirds, df['distance'].max(), color='red', alpha=0.1)\n",
    "\n",
    "plt.title('Gist flight distance')\n",
    "plt.xlabel('Distance')\n",
    "plt.ylabel('Flights count')\n",
    "plt.legend()\n",
    "plt.show()"
   ]
  },
  {
   "cell_type": "code",
   "execution_count": 19,
   "id": "db52f05b-23bb-4e75-a23f-8f9ef3166db7",
   "metadata": {},
   "outputs": [],
   "source": [
    "# Для вывода пунктов назначений из длинной области воспользуаемся методом unique"
   ]
  },
  {
   "cell_type": "code",
   "execution_count": 20,
   "id": "4f9cb6a9-6311-459e-9444-f58b96ca9503",
   "metadata": {},
   "outputs": [
    {
     "data": {
      "text/plain": [
       "array(['IAH', 'MIA', 'BQN', 'LAX', 'SFO', 'DFW', 'LAS', 'FLL', 'RSW',\n",
       "       'SJU', 'PHX', 'DEN', 'SNA', 'MSY', 'SLC', 'XNA', 'SEA', 'SAN',\n",
       "       'JAC', 'AUS', 'STT', 'EGE', 'HOU', 'LGB', 'BUR', 'MCI', 'SAT',\n",
       "       'PDX', 'SJC', 'OMA', 'OAK', 'SMF', 'PSE', 'TUL', 'OKC', 'HDN',\n",
       "       'BZN', 'MTJ', 'EYW', 'PSP', 'ABQ'], dtype=object)"
      ]
     },
     "execution_count": 20,
     "metadata": {},
     "output_type": "execute_result"
    }
   ],
   "source": [
    "df[df['distance']>quantile_two_thirds]['dest'].unique()"
   ]
  },
  {
   "cell_type": "code",
   "execution_count": 44,
   "id": "d1e4ed56-a83c-4622-9607-b7aa02f04ed8",
   "metadata": {
    "scrolled": true
   },
   "outputs": [
    {
     "name": "stdout",
     "output_type": "stream",
     "text": [
      "Среднее время задержки вылета для области коротких перелетов:  12.972168722945787\n",
      "Среднее время задержки вылета для области средних перелетов:  13.563077701453619\n",
      "Среднее время задержки вылета для области длинных перелетов:  11.185518830222389\n"
     ]
    }
   ],
   "source": [
    "print('Среднее время задержки вылета для области коротких перелетов: ', df[df['distance']<quantile_one_third]['dep_delay'].mean())\n",
    "print('Среднее время задержки вылета для области средних перелетов: ', df[(df['distance']<quantile_two_thirds)&(df['distance']>quantile_one_third)]['dep_delay'].mean())\n",
    "print('Среднее время задержки вылета для области длинных перелетов: ', df[df['distance']>quantile_two_thirds]['dep_delay'].mean())"
   ]
  },
  {
   "cell_type": "raw",
   "id": "b2ecb11f-2e80-4fb5-866c-9a6a3dd1eeed",
   "metadata": {},
   "source": [
    "3. Нарисуйте график среднего времени задержки вылета по месяцам и отметьте на нем границы доверительных интервалов с уровнем доверия 0.95. С помощью подходящего статистического теста проверьте, можно ли принять гипотезу о равенстве средних в январе и феврале на уровне значимости 0.05? на уровне значимости 0.01?"
   ]
  },
  {
   "cell_type": "code",
   "execution_count": 57,
   "id": "2f62ce07-6f79-48f5-a4bc-19bebef75993",
   "metadata": {},
   "outputs": [],
   "source": [
    "grouped_df = df.groupby(by = 'month')['dep_delay']"
   ]
  },
  {
   "cell_type": "code",
   "execution_count": 58,
   "id": "98f405bb-5008-4048-baa9-a81f3e2fb689",
   "metadata": {},
   "outputs": [],
   "source": [
    "means = grouped_df.mean()\n",
    "std_devs = grouped_df.std()\n",
    "n = grouped_df.count()"
   ]
  },
  {
   "cell_type": "code",
   "execution_count": 61,
   "id": "8779b487-847e-485f-b3f5-ee2844941556",
   "metadata": {},
   "outputs": [],
   "source": [
    "sme = std_devs/np.sqrt(n)"
   ]
  },
  {
   "cell_type": "code",
   "execution_count": 62,
   "id": "3608cc69-51ff-43eb-babf-7816e96ba0be",
   "metadata": {},
   "outputs": [],
   "source": [
    "trust = 0.95\n",
    "ci_lower = means - trust * sme\n",
    "ci_upper = means + trust * sme"
   ]
  },
  {
   "cell_type": "code",
   "execution_count": 87,
   "id": "f1ca1eba-6d8e-4fa3-bd06-038a2da5bd07",
   "metadata": {},
   "outputs": [
    {
     "name": "stderr",
     "output_type": "stream",
     "text": [
      "C:\\Users\\user\\AppData\\Local\\Temp\\ipykernel_17368\\1270296431.py:2: UserWarning: marker is redundantly defined by the 'marker' keyword argument and the fmt string \"o\" (-> marker='o'). The keyword argument will take precedence.\n",
      "  plt.errorbar(x=means.index, y=means, yerr=[means - ci_lower, ci_upper - means], fmt='o', ecolor='r', capsize=4, capthick=1, marker='s', markersize=3)\n"
     ]
    },
    {
     "data": {
      "image/png": "[encoded data removed]",
      "text/plain": [
       "<Figure size 1000x600 with 1 Axes>"
      ]
     },
     "metadata": {},
     "output_type": "display_data"
    }
   ],
   "source": [
    "plt.figure(figsize=(10, 6))\n",
    "plt.errorbar(x=means.index, y=means, yerr=[means - ci_lower, ci_upper - means], fmt='o', ecolor='r', capsize=4, capthick=1, marker='s', markersize=3)\n",
    "plt.title('Среднее время задержки вылета по месяцам с доверительными интервалами (95%)')\n",
    "plt.xlabel('Месяц')\n",
    "plt.ylabel('Средняя задержка (мин)')\n",
    "plt.xticks(range(1, 13))\n",
    "plt.grid(True)\n",
    "plt.show()"
   ]
  },
  {
   "cell_type": "code",
   "execution_count": 70,
   "id": "d7c9f5c0-0d82-46c4-8af3-f61ec49281f8",
   "metadata": {},
   "outputs": [
    {
     "name": "stdout",
     "output_type": "stream",
     "text": [
      "t-статистика: -2.426723604886544\n",
      "p-значение: 0.015239465878896305\n",
      "Отвергаем нулевую гипотезу на уровне значимости 0.05\n",
      "Не можем отвергать нулевую гипотезу на уровне значимости 0.01\n"
     ]
    }
   ],
   "source": [
    "january_data = df[df['month'] == 1]['dep_delay']\n",
    "february_data = df[df['month'] == 2]['dep_delay']\n",
    "\n",
    "# Проведение двухвыборочного t-теста\n",
    "t_statistic, p_value = stats.ttest_ind(january_data, february_data)\n",
    "\n",
    "print(f\"t-статистика: {t_statistic}\")\n",
    "print(f\"p-значение: {p_value}\")\n",
    "\n",
    "# Проверка гипотезы на уровне значимости 0.05\n",
    "alpha_05 = 0.05\n",
    "if p_value < alpha_05:\n",
    "    print(\"Отвергаем нулевую гипотезу на уровне значимости 0.05\")\n",
    "else:\n",
    "    print(\"Не можем отвергнуть нулевую гипотезу на уровне значимости 0.05\")\n",
    "\n",
    "# Проверка гипотезы на уровне значимости 0.01\n",
    "alpha_01 = 0.01\n",
    "if p_value < alpha_01:\n",
    "    print(\"Отвергаем нулевую гипотезу на уровне значимости 0.01\")\n",
    "else:\n",
    "    print(\"Не можем отвергать нулевую гипотезу на уровне значимости 0.01\")"
   ]
  },
  {
   "cell_type": "raw",
   "id": "1094e869-23b5-4d7d-9901-d956db79b850",
   "metadata": {},
   "source": [
    "4. Найдите коэффициент корреляции между расстоянием distance и временем полета air_time. Постройте точечную диаграмму в осях distance (х) и air_time (y). Найдите коэффициенты линейной регрессии и нанесите полученную прямую на график. Как можно интерпретировать смысл коэффициентов полученной линейной модели?"
   ]
  },
  {
   "cell_type": "code",
   "execution_count": 79,
   "id": "77be0f7e-20a4-44ff-99e3-92f474568faf",
   "metadata": {},
   "outputs": [
    {
     "data": {
      "text/html": [
       "<div>\n",
       "<style scoped>\n",
       "    .dataframe tbody tr th:only-of-type {\n",
       "        vertical-align: middle;\n",
       "    }\n",
       "\n",
       "    .dataframe tbody tr th {\n",
       "        vertical-align: top;\n",
       "    }\n",
       "\n",
       "    .dataframe thead th {\n",
       "        text-align: right;\n",
       "    }\n",
       "</style>\n",
       "<table border=\"1\" class=\"dataframe\">\n",
       "  <thead>\n",
       "    <tr style=\"text-align: right;\">\n",
       "      <th></th>\n",
       "      <th>year</th>\n",
       "      <th>month</th>\n",
       "      <th>day</th>\n",
       "      <th>dep_time</th>\n",
       "      <th>dep_delay</th>\n",
       "      <th>arr_time</th>\n",
       "      <th>arr_delay</th>\n",
       "      <th>carrier</th>\n",
       "      <th>tailnum</th>\n",
       "      <th>flight</th>\n",
       "      <th>origin</th>\n",
       "      <th>dest</th>\n",
       "      <th>air_time</th>\n",
       "      <th>distance</th>\n",
       "    </tr>\n",
       "  </thead>\n",
       "  <tbody>\n",
       "    <tr>\n",
       "      <th>0</th>\n",
       "      <td>2013</td>\n",
       "      <td>1</td>\n",
       "      <td>1</td>\n",
       "      <td>517.0</td>\n",
       "      <td>2.0</td>\n",
       "      <td>830.0</td>\n",
       "      <td>11.0</td>\n",
       "      <td>UA</td>\n",
       "      <td>N14228</td>\n",
       "      <td>1545</td>\n",
       "      <td>EWR</td>\n",
       "      <td>IAH</td>\n",
       "      <td>227.0</td>\n",
       "      <td>1400</td>\n",
       "    </tr>\n",
       "    <tr>\n",
       "      <th>1</th>\n",
       "      <td>2013</td>\n",
       "      <td>1</td>\n",
       "      <td>1</td>\n",
       "      <td>533.0</td>\n",
       "      <td>4.0</td>\n",
       "      <td>850.0</td>\n",
       "      <td>20.0</td>\n",
       "      <td>UA</td>\n",
       "      <td>N24211</td>\n",
       "      <td>1714</td>\n",
       "      <td>LGA</td>\n",
       "      <td>IAH</td>\n",
       "      <td>227.0</td>\n",
       "      <td>1416</td>\n",
       "    </tr>\n",
       "    <tr>\n",
       "      <th>2</th>\n",
       "      <td>2013</td>\n",
       "      <td>1</td>\n",
       "      <td>1</td>\n",
       "      <td>542.0</td>\n",
       "      <td>2.0</td>\n",
       "      <td>923.0</td>\n",
       "      <td>33.0</td>\n",
       "      <td>AA</td>\n",
       "      <td>N619AA</td>\n",
       "      <td>1141</td>\n",
       "      <td>JFK</td>\n",
       "      <td>MIA</td>\n",
       "      <td>160.0</td>\n",
       "      <td>1089</td>\n",
       "    </tr>\n",
       "    <tr>\n",
       "      <th>3</th>\n",
       "      <td>2013</td>\n",
       "      <td>1</td>\n",
       "      <td>1</td>\n",
       "      <td>544.0</td>\n",
       "      <td>-1.0</td>\n",
       "      <td>1004.0</td>\n",
       "      <td>-18.0</td>\n",
       "      <td>B6</td>\n",
       "      <td>N804JB</td>\n",
       "      <td>725</td>\n",
       "      <td>JFK</td>\n",
       "      <td>BQN</td>\n",
       "      <td>183.0</td>\n",
       "      <td>1576</td>\n",
       "    </tr>\n",
       "    <tr>\n",
       "      <th>4</th>\n",
       "      <td>2013</td>\n",
       "      <td>1</td>\n",
       "      <td>1</td>\n",
       "      <td>554.0</td>\n",
       "      <td>-6.0</td>\n",
       "      <td>812.0</td>\n",
       "      <td>-25.0</td>\n",
       "      <td>DL</td>\n",
       "      <td>N668DN</td>\n",
       "      <td>461</td>\n",
       "      <td>LGA</td>\n",
       "      <td>ATL</td>\n",
       "      <td>116.0</td>\n",
       "      <td>762</td>\n",
       "    </tr>\n",
       "  </tbody>\n",
       "</table>\n",
       "</div>"
      ],
      "text/plain": [
       "   year  month  day  dep_time  dep_delay  arr_time  arr_delay carrier tailnum  \\\n",
       "0  2013      1    1     517.0        2.0     830.0       11.0      UA  N14228   \n",
       "1  2013      1    1     533.0        4.0     850.0       20.0      UA  N24211   \n",
       "2  2013      1    1     542.0        2.0     923.0       33.0      AA  N619AA   \n",
       "3  2013      1    1     544.0       -1.0    1004.0      -18.0      B6  N804JB   \n",
       "4  2013      1    1     554.0       -6.0     812.0      -25.0      DL  N668DN   \n",
       "\n",
       "   flight origin dest  air_time  distance  \n",
       "0    1545    EWR  IAH     227.0      1400  \n",
       "1    1714    LGA  IAH     227.0      1416  \n",
       "2    1141    JFK  MIA     160.0      1089  \n",
       "3     725    JFK  BQN     183.0      1576  \n",
       "4     461    LGA  ATL     116.0       762  "
      ]
     },
     "execution_count": 79,
     "metadata": {},
     "output_type": "execute_result"
    }
   ],
   "source": [
    "df.head()"
   ]
  },
  {
   "cell_type": "code",
   "execution_count": 96,
   "id": "54b01605-586f-469f-bfbe-37657cde674d",
   "metadata": {},
   "outputs": [],
   "source": [
    "from sklearn.linear_model import LinearRegression"
   ]
  },
  {
   "cell_type": "code",
   "execution_count": 108,
   "id": "4781b532-2550-474c-82f9-595a76cd6d9f",
   "metadata": {},
   "outputs": [],
   "source": [
    "X = df['distance'].values.reshape(-1, 1)\n",
    "Y = df['air_time'].values.reshape(-1, 1)"
   ]
  },
  {
   "cell_type": "code",
   "execution_count": 116,
   "id": "d288d202-e0e9-4c8e-9568-2fadbc901a1a",
   "metadata": {},
   "outputs": [
    {
     "data": {
      "text/html": [
       "<style>#sk-container-id-3 {color: black;background-color: white;}#sk-container-id-3 pre{padding: 0;}#sk-container-id-3 div.sk-toggleable {background-color: white;}#sk-container-id-3 label.sk-toggleable__label {cursor: pointer;display: block;width: 100%;margin-bottom: 0;padding: 0.3em;box-sizing: border-box;text-align: center;}#sk-container-id-3 label.sk-toggleable__label-arrow:before {content: \"▸\";float: left;margin-right: 0.25em;color: #696969;}#sk-container-id-3 label.sk-toggleable__label-arrow:hover:before {color: black;}#sk-container-id-3 div.sk-estimator:hover label.sk-toggleable__label-arrow:before {color: black;}#sk-container-id-3 div.sk-toggleable__content {max-height: 0;max-width: 0;overflow: hidden;text-align: left;background-color: #f0f8ff;}#sk-container-id-3 div.sk-toggleable__content pre {margin: 0.2em;color: black;border-radius: 0.25em;background-color: #f0f8ff;}#sk-container-id-3 input.sk-toggleable__control:checked~div.sk-toggleable__content {max-height: 200px;max-width: 100%;overflow: auto;}#sk-container-id-3 input.sk-toggleable__control:checked~label.sk-toggleable__label-arrow:before {content: \"▾\";}#sk-container-id-3 div.sk-estimator input.sk-toggleable__control:checked~label.sk-toggleable__label {background-color: #d4ebff;}#sk-container-id-3 div.sk-label input.sk-toggleable__control:checked~label.sk-toggleable__label {background-color: #d4ebff;}#sk-container-id-3 input.sk-hidden--visually {border: 0;clip: rect(1px 1px 1px 1px);clip: rect(1px, 1px, 1px, 1px);height: 1px;margin: -1px;overflow: hidden;padding: 0;position: absolute;width: 1px;}#sk-container-id-3 div.sk-estimator {font-family: monospace;background-color: #f0f8ff;border: 1px dotted black;border-radius: 0.25em;box-sizing: border-box;margin-bottom: 0.5em;}#sk-container-id-3 div.sk-estimator:hover {background-color: #d4ebff;}#sk-container-id-3 div.sk-parallel-item::after {content: \"\";width: 100%;border-bottom: 1px solid gray;flex-grow: 1;}#sk-container-id-3 div.sk-label:hover label.sk-toggleable__label {background-color: #d4ebff;}#sk-container-id-3 div.sk-serial::before {content: \"\";position: absolute;border-left: 1px solid gray;box-sizing: border-box;top: 0;bottom: 0;left: 50%;z-index: 0;}#sk-container-id-3 div.sk-serial {display: flex;flex-direction: column;align-items: center;background-color: white;padding-right: 0.2em;padding-left: 0.2em;position: relative;}#sk-container-id-3 div.sk-item {position: relative;z-index: 1;}#sk-container-id-3 div.sk-parallel {display: flex;align-items: stretch;justify-content: center;background-color: white;position: relative;}#sk-container-id-3 div.sk-item::before, #sk-container-id-3 div.sk-parallel-item::before {content: \"\";position: absolute;border-left: 1px solid gray;box-sizing: border-box;top: 0;bottom: 0;left: 50%;z-index: -1;}#sk-container-id-3 div.sk-parallel-item {display: flex;flex-direction: column;z-index: 1;position: relative;background-color: white;}#sk-container-id-3 div.sk-parallel-item:first-child::after {align-self: flex-end;width: 50%;}#sk-container-id-3 div.sk-parallel-item:last-child::after {align-self: flex-start;width: 50%;}#sk-container-id-3 div.sk-parallel-item:only-child::after {width: 0;}#sk-container-id-3 div.sk-dashed-wrapped {border: 1px dashed gray;margin: 0 0.4em 0.5em 0.4em;box-sizing: border-box;padding-bottom: 0.4em;background-color: white;}#sk-container-id-3 div.sk-label label {font-family: monospace;font-weight: bold;display: inline-block;line-height: 1.2em;}#sk-container-id-3 div.sk-label-container {text-align: center;}#sk-container-id-3 div.sk-container {/* jupyter's `normalize.less` sets `[hidden] { display: none; }` but bootstrap.min.css set `[hidden] { display: none !important; }` so we also need the `!important` here to be able to override the default hidden behavior on the sphinx rendered scikit-learn.org. See: https://github.com/scikit-learn/scikit-learn/issues/21755 */display: inline-block !important;position: relative;}#sk-container-id-3 div.sk-text-repr-fallback {display: none;}</style><div id=\"sk-container-id-3\" class=\"sk-top-container\"><div class=\"sk-text-repr-fallback\"><pre>LinearRegression()</pre><b>In a Jupyter environment, please rerun this cell to show the HTML representation or trust the notebook. <br />On GitHub, the HTML representation is unable to render, please try loading this page with nbviewer.org.</b></div><div class=\"sk-container\" hidden><div class=\"sk-item\"><div class=\"sk-estimator sk-toggleable\"><input class=\"sk-toggleable__control sk-hidden--visually\" id=\"sk-estimator-id-3\" type=\"checkbox\" checked><label for=\"sk-estimator-id-3\" class=\"sk-toggleable__label sk-toggleable__label-arrow\">LinearRegression</label><div class=\"sk-toggleable__content\"><pre>LinearRegression()</pre></div></div></div></div></div>"
      ],
      "text/plain": [
       "LinearRegression()"
      ]
     },
     "execution_count": 116,
     "metadata": {},
     "output_type": "execute_result"
    }
   ],
   "source": [
    "lr = LinearRegression()\n",
    "lr.fit(X, Y)"
   ]
  },
  {
   "cell_type": "code",
   "execution_count": 104,
   "id": "9b02d3ff-4f3a-4e47-9090-c1f83a894c87",
   "metadata": {},
   "outputs": [
    {
     "data": {
      "text/plain": [
       "[<matplotlib.lines.Line2D at 0x2b169d37dd0>]"
      ]
     },
     "execution_count": 104,
     "metadata": {},
     "output_type": "execute_result"
    },
    {
     "data": {
      "image/png": "[encoded data removed]",
      "text/plain": [
       "<Figure size 1000x600 with 1 Axes>"
      ]
     },
     "metadata": {},
     "output_type": "display_data"
    }
   ],
   "source": [
    "predictions = lr.predict(df['distance'].values.reshape(-1, 1))\n",
    "plt.figure(figsize = (10, 6))\n",
    "plt.scatter(x = df['distance'], y = df['air_time'], color = 'b', label='корелляция расстояния полета и времени полета', s=0.1)\n",
    "plt.plot(df['distance'], predictions, color='red', label='Линейная регрессия')"
   ]
  },
  {
   "cell_type": "code",
   "execution_count": 112,
   "id": "fd73c282-5daf-4f44-97e4-85795189a219",
   "metadata": {},
   "outputs": [
    {
     "name": "stdout",
     "output_type": "stream",
     "text": [
      "коэффицент корреляции =  0.9894473306809556\n"
     ]
    }
   ],
   "source": [
    "print('коэффицент корреляции = ', np.corrcoef(df['distance'], df['air_time'])[0,1])"
   ]
  },
  {
   "cell_type": "code",
   "execution_count": 126,
   "id": "8399102c-92d4-4945-aeb1-85e5c60328de",
   "metadata": {},
   "outputs": [
    {
     "name": "stdout",
     "output_type": "stream",
     "text": [
      "B1 =  18.163913150569996 B2 =  0.1264135216356278 B3 =  0.9790060201916664\n"
     ]
    }
   ],
   "source": [
    "print('B1 = ', lr.intercept_[0] , 'B2 = ', *lr.coef_[0] , 'B3 = ', lr.score(X, Y))\n"
   ]
  },
  {
   "cell_type": "raw",
   "id": "957d8adc-79a9-4b19-a22b-b555bdb1b52c",
   "metadata": {},
   "source": [
    "B1 Этот коэффициент показывает, на сколько в среднем изменяется время полета при изменении расстояния на единицу (например, на одну милю).\n",
    "B2 Не имеет физического смысла(вермя полета при нулевой дистанции), помещает прямую в правитльное место.\n",
    "B3 Показывает, какая часть общей вариации зависимой переменной объясняется моделью"
   ]
  },
  {
   "cell_type": "raw",
   "id": "fe713d2b-d39f-44be-b1be-2738cba85e54",
   "metadata": {},
   "source": [
    "6. Постройте модель логистической регрессии, которая будет предсказывать, что задержка прилета составит более 15 минут. \n",
    "Какие признаки вы будете использовать? Какие новые признаки, на основе имеющихся, можете предложить? \n",
    "Какова точность полученной модели (precision, recall, accuracy)? \n",
    "Вопрос со звездочкой (необязательный): изучите случаи, на которых модель ошибается – с чем связаны ошибки и как можно улучшить модель?\n"
   ]
  },
  {
   "cell_type": "code",
   "execution_count": 127,
   "id": "79543148-05a8-4938-960d-6e61bb71cd6d",
   "metadata": {},
   "outputs": [],
   "source": [
    "filtered_df = df[(df['dep_delay'] >= -15) & (df['dep_delay'] <= 15)]"
   ]
  },
  {
   "cell_type": "code",
   "execution_count": 148,
   "id": "71bdc0e4-a3a0-4dc9-80c1-6b9aa1288bf7",
   "metadata": {},
   "outputs": [
    {
     "data": {
      "image/png": "[encoded data removed]",
      "text/plain": [
       "<Figure size 640x480 with 1 Axes>"
      ]
     },
     "metadata": {},
     "output_type": "display_data"
    }
   ],
   "source": [
    "hist_values, bins, _ = plt.hist(filtered_df['arr_delay'], \n",
    "                                bins=30, density=True, alpha=0.6, color='g', \n",
    "                                edgecolor='black', label='Гистограмма задержки прилета')\n",
    "mu, sigma = stats.norm.fit(filtered_df['arr_delay'])\n",
    "x = np.linspace(min(filtered_df['arr_delay']), max(filtered_df['arr_delay']), 100)\n",
    "pdf = stats.norm.pdf(x, mu, sigma)\n",
    "\n",
    "plt.plot(x, pdf, 'r-', linewidth=2, label='Плотность нормального распределения')\n",
    "plt.title('Гистограмма задержки прилета и плотность нормального распределения')\n",
    "plt.xlabel('Задержка прилета (минуты)')\n",
    "plt.ylabel('Плотность')\n",
    "plt.legend()\n",
    "plt.grid(True)\n",
    "plt.show()"
   ]
  },
  {
   "cell_type": "code",
   "execution_count": 157,
   "id": "3477ddcb-999d-41fd-abcc-ba37c5f3a262",
   "metadata": {},
   "outputs": [
    {
     "name": "stderr",
     "output_type": "stream",
     "text": [
      "C:\\Users\\user\\anaconda3\\Lib\\site-packages\\scipy\\stats\\_morestats.py:1882: UserWarning: p-value may not be accurate for N > 5000.\n",
      "  warnings.warn(\"p-value may not be accurate for N > 5000.\")\n"
     ]
    },
    {
     "data": {
      "text/plain": [
       "ShapiroResult(statistic=0.954134464263916, pvalue=0.0)"
      ]
     },
     "execution_count": 157,
     "metadata": {},
     "output_type": "execute_result"
    }
   ],
   "source": [
    "shapiro_test = stats.shapiro(filtered_df['arr_delay'])\n",
    "shapiro_test"
   ]
  },
  {
   "cell_type": "raw",
   "id": "22ab585e-4d6b-472e-ac1a-c567fa5e7709",
   "metadata": {},
   "source": [
    "6 Постройте модель логистической регрессии, которая будет предсказывать, что задержка прилета составит более 15 минут. Какие признаки вы будете использовать? Какие новые признаки, на основе имеющихся, можете предложить? Какова точность полученной модели (precision, recall, accuracy)? Вопрос со звездочкой (необязательный): изучите случаи, на которых модель ошибается – с чем связаны ошибки и как можно улучшить модель?\n"
   ]
  },
  {
   "cell_type": "code",
   "execution_count": 156,
   "id": "90b26076-7b93-4e27-8834-5bc08451e504",
   "metadata": {},
   "outputs": [],
   "source": [
    "df['target'] = (df['arr_delay'] > 15).astype(int)"
   ]
  },
  {
   "cell_type": "code",
   "execution_count": 158,
   "id": "d1300c01-2ab7-4781-8e5b-6cb40a6c744e",
   "metadata": {},
   "outputs": [],
   "source": [
    "df['rel_dep_delay'] = df['dep_delay'] / df['air_time']  # относительная задержка вылета\n",
    "df['is_long_flight'] = (df['distance'] > df['distance'].median()).astype(int)  # бинарный признак, длинный ли рейс\n",
    "\n",
    "# Отбор признаков\n",
    "features = ['dep_delay', 'distance', 'air_time', 'rel_dep_delay', 'is_long_flight']\n",
    "X = df[features]\n",
    "y = df['target']"
   ]
  },
  {
   "cell_type": "code",
   "execution_count": 159,
   "id": "139cb15d-2021-4442-a216-ef0696eeb700",
   "metadata": {},
   "outputs": [],
   "source": [
    "from sklearn.model_selection import train_test_split\n",
    "\n",
    "X_train, X_test, y_train, y_test = train_test_split(X, y, test_size=0.3, random_state=42)"
   ]
  },
  {
   "cell_type": "code",
   "execution_count": 160,
   "id": "b8d6d4a9-0b72-419b-b024-9f5cef28e9a4",
   "metadata": {},
   "outputs": [],
   "source": [
    "from sklearn.linear_model import LogisticRegression\n",
    "from sklearn.metrics import precision_score, recall_score, accuracy_score, confusion_matrix, classification_report\n",
    "\n",
    "# Обучение модели\n",
    "model = LogisticRegression()\n",
    "model.fit(X_train, y_train)\n",
    "\n",
    "# Предсказания\n",
    "y_pred = model.predict(X_test)\n"
   ]
  },
  {
   "cell_type": "code",
   "execution_count": 161,
   "id": "0870dd66-3fff-493c-a278-12fab1861c1e",
   "metadata": {},
   "outputs": [
    {
     "name": "stdout",
     "output_type": "stream",
     "text": [
      "Accuracy: 0.9127659351814063\n",
      "Precision: 0.8922018348623854\n",
      "Recall: 0.7197356828193833\n",
      "              precision    recall  f1-score   support\n",
      "\n",
      "           0       0.92      0.97      0.94     72859\n",
      "           1       0.89      0.72      0.80     22700\n",
      "\n",
      "    accuracy                           0.91     95559\n",
      "   macro avg       0.90      0.85      0.87     95559\n",
      "weighted avg       0.91      0.91      0.91     95559\n",
      "\n",
      "Confusion Matrix:\n",
      "[[70885  1974]\n",
      " [ 6362 16338]]\n"
     ]
    }
   ],
   "source": [
    "# Оценка точности модели\n",
    "accuracy = accuracy_score(y_test, y_pred)\n",
    "precision = precision_score(y_test, y_pred)\n",
    "recall = recall_score(y_test, y_pred)\n",
    "\n",
    "print(f\"Accuracy: {accuracy}\")\n",
    "print(f\"Precision: {precision}\")\n",
    "print(f\"Recall: {recall}\")\n",
    "\n",
    "# Подробный отчет о классификации\n",
    "print(classification_report(y_test, y_pred))\n",
    "\n",
    "# Матрица ошибок\n",
    "conf_matrix = confusion_matrix(y_test, y_pred)\n",
    "print(\"Confusion Matrix:\")\n",
    "print(conf_matrix)\n"
   ]
  },
  {
   "cell_type": "code",
   "execution_count": 168,
   "id": "35009db3-7579-4625-8c7e-e6f843148ea0",
   "metadata": {},
   "outputs": [
    {
     "data": {
      "image/png": "[encoded data removed]",
      "text/plain": [
       "<Figure size 400x300 with 2 Axes>"
      ]
     },
     "metadata": {},
     "output_type": "display_data"
    }
   ],
   "source": [
    "import seaborn as sns\n",
    "import matplotlib.pyplot as plt\n",
    "\n",
    "plt.figure(figsize=(4, 3))\n",
    "sns.heatmap(conf_matrix, annot=True, fmt='d', cmap='Blues')\n",
    "plt.xlabel('Pred')\n",
    "plt.ylabel('Obs')\n",
    "plt.title('Матрица ошибок')\n",
    "plt.show()"
   ]
  },
  {
   "cell_type": "code",
   "execution_count": 165,
   "id": "b21fd1fc-ea19-4711-a43a-9583b94e31c4",
   "metadata": {},
   "outputs": [
    {
     "name": "stdout",
     "output_type": "stream",
     "text": [
      "Примеры ошибок модели:\n",
      "        dep_delay  distance  air_time  rel_dep_delay  is_long_flight\n",
      "138664       -4.0      2434     360.0      -0.011111               1\n",
      "192263       36.0      1029     150.0       0.240000               1\n",
      "43156        -3.0      2133     310.0      -0.009677               1\n",
      "183712       -6.0      1096     194.0      -0.030928               1\n",
      "264294       10.0       431      66.0       0.151515               0\n"
     ]
    }
   ],
   "source": [
    "errors = X_test[(y_test != y_pred)]\n",
    "print(\"Примеры ошибок модели:\")\n",
    "print(errors.head())\n"
   ]
  }
 ],
 "metadata": {
  "kernelspec": {
   "display_name": "Python 3 (ipykernel)",
   "language": "python",
   "name": "python3"
  },
  "language_info": {
   "codemirror_mode": {
    "name": "ipython",
    "version": 3
   },
   "file_extension": ".py",
   "mimetype": "text/x-python",
   "name": "python",
   "nbconvert_exporter": "python",
   "pygments_lexer": "ipython3",
   "version": "3.11.7"
  }
 },
 "nbformat": 4,
 "nbformat_minor": 5
}
